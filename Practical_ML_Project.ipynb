{
 "cells": [
  {
   "cell_type": "markdown",
   "metadata": {},
   "source": [
    "# Practical Machine Learning Project"
   ]
  },
  {
   "cell_type": "markdown",
   "metadata": {},
   "source": [
    "## Background\n",
    "\n",
    "Using devices such as Jawbone Up, Nike FuelBand, and Fitbit it is now possible to collect a large amount of data about personal activity relatively inexpensively. These type of devices are part of the quantified self movement – a group of enthusiasts who take measurements about themselves regularly to improve their health, to find patterns in their behavior, or because they are tech geeks. One thing that people regularly do is quantify how much of a particular activity they do, but they rarely quantify how well they do it. In this project, your goal will be to use data from accelerometers on the belt, forearm, arm, and dumbell of 6 participants. They were asked to perform barbell lifts correctly and incorrectly in 5 different ways. More information is available from the website here: http://groupware.les.inf.puc-rio.br/har (see the section on the Weight Lifting Exercise Dataset).\n",
    "\n",
    "## Data\n",
    "\n",
    "The training data for this project are available here:\n",
    "\n",
    "https://d396qusza40orc.cloudfront.net/predmachlearn/pml-training.csv\n",
    "\n",
    "The test data are available here:\n",
    "\n",
    "https://d396qusza40orc.cloudfront.net/predmachlearn/pml-testing.csv\n",
    "\n",
    "\n",
    "The data for this project come from this source: http://groupware.les.inf.puc-rio.br/har. If you use the document you create for this class for any purpose please cite them as they have been very generous in allowing their data to be used for this kind of assignment."
   ]
  },
  {
   "cell_type": "markdown",
   "metadata": {},
   "source": [
    "## Installing Essential Libraries"
   ]
  },
  {
   "cell_type": "code",
   "execution_count": null,
   "metadata": {
    "collapsed": false
   },
   "outputs": [],
   "source": [
    "#install.packages(\"ElemStatLearn\",dependencies= TRUE, \"/Users/Aquilesja/anaconda/lib/R/library\",repos='http://cran.us.r-project.org')\n",
    "#install.packages(\"AppliedPredictiveModeling\",dependencies= TRUE, \"/Users/Aquilesja/anaconda/lib/R/library\",repos='http://cran.us.r-project.org')\n",
    "#install.packages(\"elasticnet\",dependencies= TRUE, \"/Users/Aquilesja/anaconda/lib/R/library\",repos='http://cran.us.r-project.org')\n",
    "#install.packages(\"lubridate\",dependencies= TRUE, \"/Users/Aquilesja/anaconda/lib/R/library\",repos='http://cran.us.r-project.org')\n",
    "#install.packages(\"forecast\",dependencies= TRUE, \"/Users/Aquilesja/anaconda/lib/R/library\",repos='http://cran.us.r-project.org')\n",
    "#install.packages(\"RGtk2\",dependencies= TRUE, \"/Users/Aquilesja/anaconda/lib/R/library\",repos='http://cran.us.r-project.org')\n",
    "#install.packages(\"rattle\", dependencies= TRUE,\"/Users/Aquilesja/anaconda/lib/R/library\",repos='http://cran.us.r-project.org')"
   ]
  },
  {
   "cell_type": "markdown",
   "metadata": {},
   "source": [
    "## Importing needed Libraries"
   ]
  },
  {
   "cell_type": "code",
   "execution_count": 3,
   "metadata": {
    "collapsed": false
   },
   "outputs": [],
   "source": [
    "library(caret)\n",
    "library(rpart)\n",
    "library(rpart.plot)\n",
    "library(randomForest)\n",
    "library(corrplot)\n",
    "library(ElemStatLearn)\n"
   ]
  },
  {
   "cell_type": "markdown",
   "metadata": {
    "collapsed": false
   },
   "source": [
    "## Reading traininf and testind data from CSV files"
   ]
  },
  {
   "cell_type": "code",
   "execution_count": 4,
   "metadata": {
    "collapsed": false
   },
   "outputs": [
    {
     "name": "stdout",
     "output_type": "stream",
     "text": [
      "The training set contains  19622 Individuals  and  160 Variables\n",
      "The testing set contains  20 Individuals  and  160 Variables"
     ]
    }
   ],
   "source": [
    "trainData <- read.csv(\"pml-training.csv\")\n",
    "testData <- read.csv(\"pml-testing.csv\")\n",
    "cat(\"The training set contains \", dim(trainData)[1], \"Individuals\", \" and \",dim(trainData)[2], \"Variables\\n\")\n",
    "cat(\"The testing set contains \", dim(testData)[1],\"Individuals\", \" and \",dim(testData)[2], \"Variables\")"
   ]
  },
  {
   "cell_type": "markdown",
   "metadata": {},
   "source": [
    "## Removing NA data\n",
    "\n",
    "Here we remove all columns with missing values"
   ]
  },
  {
   "cell_type": "code",
   "execution_count": 5,
   "metadata": {
    "collapsed": false
   },
   "outputs": [],
   "source": [
    "trainData <- trainData[, colSums(is.na(trainData)) == 0] \n",
    "testData <- testData[, colSums(is.na(testData)) == 0] "
   ]
  },
  {
   "cell_type": "markdown",
   "metadata": {
    "collapsed": true
   },
   "source": [
    "After removing the columns with missing data the training and testing dataset we obtain:"
   ]
  },
  {
   "cell_type": "code",
   "execution_count": 6,
   "metadata": {
    "collapsed": false
   },
   "outputs": [
    {
     "name": "stdout",
     "output_type": "stream",
     "text": [
      "The training set contains  19622 Individuals  and  93 Variables\n",
      "The testing set contains  20 Individuals  and  60 Variables"
     ]
    }
   ],
   "source": [
    "cat(\"The training set contains \", dim(trainData)[1], \"Individuals\", \" and \",dim(trainData)[2], \"Variables\\n\")\n",
    "cat(\"The testing set contains \", dim(testData)[1], \"Individuals\", \" and \",dim(testData)[2], \"Variables\")"
   ]
  },
  {
   "cell_type": "markdown",
   "metadata": {},
   "source": [
    "Let's check if there are duplicate columns in our dataset"
   ]
  },
  {
   "cell_type": "code",
   "execution_count": 7,
   "metadata": {
    "collapsed": false
   },
   "outputs": [
    {
     "name": "stdout",
     "output_type": "stream",
     "text": [
      "The training set contains  19622 Individuals  and  85 Variables\n",
      "The testing set contains  20 Individuals  and  59 Variables"
     ]
    }
   ],
   "source": [
    "trainData <- trainData[!duplicated(lapply(trainData, summary))]\n",
    "testData <- testData[!duplicated(lapply(testData, summary))]\n",
    "cat(\"The training set contains \", dim(trainData)[1], \"Individuals\", \" and \",dim(trainData)[2], \"Variables\\n\")\n",
    "cat(\"The testing set contains \", dim(testData)[1], \"Individuals\", \" and \",dim(testData)[2], \"Variables\")"
   ]
  },
  {
   "cell_type": "markdown",
   "metadata": {},
   "source": [
    "## Let's get rid of some columns that do not contribute much to the accelerometer measurements."
   ]
  },
  {
   "cell_type": "code",
   "execution_count": 8,
   "metadata": {
    "collapsed": false
   },
   "outputs": [
    {
     "name": "stdout",
     "output_type": "stream",
     "text": [
      "The training set contains  19622 Individuals  and  53 Variables\n",
      "The testing set contains  20 Individuals  and  52 Variables"
     ]
    }
   ],
   "source": [
    "classe <- trainData$classe\n",
    "trainRemove <- grepl(\"^X|timestamp|window\", names(trainData))\n",
    "trainData <- trainData[, !trainRemove]\n",
    "trainCleaned <- trainData[, sapply(trainData, is.numeric)]\n",
    "trainCleaned$classe <- classe\n",
    "testRemove <- grepl(\"^X|timestamp|window\", names(testData))\n",
    "testData <- testData[, !testRemove]\n",
    "testCleaned <- testData[, sapply(testData, is.numeric)]\n",
    "cat(\"The training set contains \", dim(trainCleaned)[1], \"Individuals\", \" and \",dim(trainCleaned)[2], \"Variables\\n\")\n",
    "cat(\"The testing set contains \", dim(testCleaned )[1], \"Individuals\", \" and \",dim(testCleaned )[2], \"Variables\")"
   ]
  },
  {
   "cell_type": "markdown",
   "metadata": {},
   "source": [
    "## Splitting the training dataset into training and validation data\n",
    "\n"
   ]
  },
  {
   "cell_type": "code",
   "execution_count": 9,
   "metadata": {
    "collapsed": false
   },
   "outputs": [],
   "source": [
    "set.seed(22519)\n",
    "inTrain <- createDataPartition(trainCleaned$classe, p=0.70, list=F)\n",
    "trainingData <- trainCleaned[inTrain,]\n",
    "testingData <- trainingData[-inTrain, ]"
   ]
  },
  {
   "cell_type": "markdown",
   "metadata": {},
   "source": [
    "## Model training and Prediction\n",
    "\n"
   ]
  },
  {
   "cell_type": "markdown",
   "metadata": {},
   "source": [
    "Let’s start with a RF model. We will use the trainControl (http://www.inside- r.org/packages/cran/caret/docs/trainControl) function from caret. This function will cross-validate our data in order to find the best parameters for the RF model."
   ]
  },
  {
   "cell_type": "code",
   "execution_count": 10,
   "metadata": {
    "collapsed": false
   },
   "outputs": [
    {
     "name": "stdout",
     "output_type": "stream",
     "text": [
      "Random Forest \n",
      "\n",
      "13737 samples\n",
      "   52 predictor\n",
      "    5 classes: 'A', 'B', 'C', 'D', 'E' \n",
      "\n",
      "No pre-processing\n",
      "Resampling: Cross-Validated (5 fold) \n",
      "Summary of sample sizes: 10989, 10989, 10991, 10990, 10989 \n",
      "Resampling results across tuning parameters:\n",
      "\n",
      "  mtry  Accuracy   Kappa    \n",
      "   2    0.9910460  0.9886726\n",
      "  27    0.9914830  0.9892250\n",
      "  52    0.9844941  0.9803815\n",
      "\n",
      "Accuracy was used to select the optimal model using  the largest value.\n",
      "The final value used for the model was mtry = 27. \n"
     ]
    }
   ],
   "source": [
    "rf_model<-train(classe~.,data=trainingData,method=\"rf\",trControl=trainControl(method=\"cv\",number=5),prox=TRUE,allowParallel=TRUE)\n",
    "print(rf_model)"
   ]
  },
  {
   "cell_type": "markdown",
   "metadata": {
    "collapsed": false
   },
   "source": [
    "## Finally, we will predict the classess using our test dataset and evaluating the performance of our model"
   ]
  },
  {
   "cell_type": "code",
   "execution_count": 15,
   "metadata": {
    "collapsed": false
   },
   "outputs": [],
   "source": [
    "predRF <- predict(rf_model, testingData)"
   ]
  },
  {
   "cell_type": "markdown",
   "metadata": {
    "collapsed": true
   },
   "source": [
    "Now, we will bring the Consusion Matrix the the predicted values and the Classes"
   ]
  },
  {
   "cell_type": "code",
   "execution_count": 16,
   "metadata": {
    "collapsed": false
   },
   "outputs": [
    {
     "data": {
      "text/plain": [
       "Confusion Matrix and Statistics\n",
       "\n",
       "          Reference\n",
       "Prediction    A    B    C    D    E\n",
       "         A 1172    0    0    0    0\n",
       "         B    0  783    0    0    0\n",
       "         C    0    0  719    0    0\n",
       "         D    0    0    0  692    0\n",
       "         E    0    0    0    0  745\n",
       "\n",
       "Overall Statistics\n",
       "                                     \n",
       "               Accuracy : 1          \n",
       "                 95% CI : (0.9991, 1)\n",
       "    No Information Rate : 0.2851     \n",
       "    P-Value [Acc > NIR] : < 2.2e-16  \n",
       "                                     \n",
       "                  Kappa : 1          \n",
       " Mcnemar's Test P-Value : NA         \n",
       "\n",
       "Statistics by Class:\n",
       "\n",
       "                     Class: A Class: B Class: C Class: D Class: E\n",
       "Sensitivity            1.0000   1.0000   1.0000   1.0000   1.0000\n",
       "Specificity            1.0000   1.0000   1.0000   1.0000   1.0000\n",
       "Pos Pred Value         1.0000   1.0000   1.0000   1.0000   1.0000\n",
       "Neg Pred Value         1.0000   1.0000   1.0000   1.0000   1.0000\n",
       "Prevalence             0.2851   0.1905   0.1749   0.1683   0.1812\n",
       "Detection Rate         0.2851   0.1905   0.1749   0.1683   0.1812\n",
       "Detection Prevalence   0.2851   0.1905   0.1749   0.1683   0.1812\n",
       "Balanced Accuracy      1.0000   1.0000   1.0000   1.0000   1.0000"
      ]
     },
     "execution_count": 16,
     "metadata": {},
     "output_type": "execute_result"
    }
   ],
   "source": [
    "confusionMatrix(testingData$classe, predRF)"
   ]
  },
  {
   "cell_type": "markdown",
   "metadata": {
    "collapsed": true
   },
   "source": [
    "### Finally we use the model to predict the class on the testing dataset."
   ]
  },
  {
   "cell_type": "code",
   "execution_count": 13,
   "metadata": {
    "collapsed": false
   },
   "outputs": [],
   "source": [
    "final <-predict(rf_model, testingData[, -length(names(testingData))])\n"
   ]
  },
  {
   "cell_type": "markdown",
   "metadata": {
    "collapsed": true
   },
   "source": [
    "The accuracy of the model is:"
   ]
  },
  {
   "cell_type": "code",
   "execution_count": 17,
   "metadata": {
    "collapsed": false
   },
   "outputs": [
    {
     "data": {
      "text/html": [
       "<dl class=dl-horizontal>\n",
       "\t<dt>Accuracy</dt>\n",
       "\t\t<dd>1</dd>\n",
       "\t<dt>Kappa</dt>\n",
       "\t\t<dd>1</dd>\n",
       "</dl>\n"
      ],
      "text/latex": [
       "\\begin{description*}\n",
       "\\item[Accuracy] 1\n",
       "\\item[Kappa] 1\n",
       "\\end{description*}\n"
      ],
      "text/markdown": [
       "Accuracy\n",
       ":   1Kappa\n",
       ":   1\n",
       "\n"
      ],
      "text/plain": [
       "Accuracy    Kappa \n",
       "       1        1 "
      ]
     },
     "execution_count": 17,
     "metadata": {},
     "output_type": "execute_result"
    }
   ],
   "source": [
    "acc <- postResample(predRF, testingData$classe)\n",
    "acc"
   ]
  },
  {
   "cell_type": "code",
   "execution_count": null,
   "metadata": {
    "collapsed": true
   },
   "outputs": [],
   "source": []
  }
 ],
 "metadata": {
  "kernelspec": {
   "display_name": "R",
   "language": "R",
   "name": "ir"
  },
  "language_info": {
   "codemirror_mode": "r",
   "file_extension": ".r",
   "mimetype": "text/x-r-source",
   "name": "R",
   "pygments_lexer": "r",
   "version": "3.2.2"
  }
 },
 "nbformat": 4,
 "nbformat_minor": 0
}
